{
  "cells": [
    {
      "cell_type": "markdown",
      "metadata": {
        "id": "qmPmefhtgEud"
      },
      "source": [
        "## Exercícios - Expressões Regulares\n",
        "\n",
        "Hora de praticar!!!\n",
        "\n",
        "Para cada exercício, apresente o código da função que execute a ação proposta e a execute para os exemplos listados. Vide exercício 1 para modelo."
      ]
    },
    {
      "cell_type": "code",
      "execution_count": null,
      "metadata": {
        "id": "MpHSdsl5h6U8"
      },
      "outputs": [],
      "source": [
        "# importação das bibliotecas\n",
        "import re"
      ]
    },
    {
      "cell_type": "markdown",
      "metadata": {
        "id": "__m85CXsgovk"
      },
      "source": [
        "### Exemplo) Detectar palavra de 5 letras que inicia com a letra `s`.\n",
        "\n",
        "* teste=['sábado', 'sexta', 'vassoura', 'astuto', 'Santo', 'santo']\n",
        "* saída= 'sexta', 'santo'\n"
      ]
    },
    {
      "cell_type": "code",
      "execution_count": null,
      "metadata": {
        "colab": {
          "base_uri": "https://localhost:8080/"
        },
        "id": "EmqwXECOglzM",
        "outputId": "0915b096-9575-46c8-9b58-622cfccef5dd"
      },
      "outputs": [
        {
          "name": "stdout",
          "output_type": "stream",
          "text": [
            "sexta\n",
            "santo\n"
          ]
        }
      ],
      "source": [
        "teste=['sábado', 'sexta', 'vassoura', 'astuto', 'Santo', 'santo']\n",
        "regex=r'\\bs\\w{4}\\b'\n",
        "\n",
        "for item in teste:\n",
        "  if (re.search(regex, item)):\n",
        "    print(item)"
      ]
    },
    {
      "cell_type": "markdown",
      "metadata": {
        "id": "X6xGh31AGIdO"
      },
      "source": [
        "### **Q1)** Detectar Uma letra `a` imediatamente seguida por uma ou mais letras `e`.\n",
        "\n",
        "* teste=['ae', 'a', 'bae', 'aeeee', 'aeeeeeeeee', 'abeeee']\n",
        "* saída= 'ae', 'bae', 'aeeee', 'aeeeeeeeee'"
      ]
    },
    {
      "cell_type": "code",
      "execution_count": null,
      "metadata": {
        "colab": {
          "base_uri": "https://localhost:8080/"
        },
        "id": "j7ateImgAhCz",
        "outputId": "98cc385d-e4a4-413c-fe99-0c9dc0e08403"
      },
      "outputs": [
        {
          "name": "stdout",
          "output_type": "stream",
          "text": [
            "ae\n",
            "bae\n",
            "aeeee\n",
            "aeeeeeeeee\n"
          ]
        }
      ],
      "source": [
        "regex = r'ae+'\n",
        "teste=['ae', 'a', 'bae', 'aeeee', 'aeeeeeeeee', 'abeeee']\n",
        "\n",
        "for item in teste:\n",
        "  if re.search(regex,item):\n",
        "    print(item)"
      ]
    },
    {
      "cell_type": "markdown",
      "metadata": {
        "id": "UdY4xhtwImne"
      },
      "source": [
        "### **Q2)** Detectar palavras de 6 a 15 letras, sem considerar caracteres especiais ou acentuação.\n",
        "\n",
        "* teste=['abraço', 'melodia', 'rotin', 'asa-delta', 'amigão', 'inconstitucionalissimamente']\n",
        "* saída= 'melodia'"
      ]
    },
    {
      "cell_type": "code",
      "execution_count": null,
      "metadata": {
        "colab": {
          "base_uri": "https://localhost:8080/"
        },
        "id": "mPA2yvbqBYpd",
        "outputId": "3ed2266d-4793-4465-e4ba-c9a7345f47dd"
      },
      "outputs": [
        {
          "name": "stdout",
          "output_type": "stream",
          "text": [
            "melodia\n"
          ]
        }
      ],
      "source": [
        "# código\n",
        "regex = r'\\b[a-zA-Z]{6,15}\\b'\n",
        "teste = ['abraço', 'melodia', 'rotin', 'asa-delta', 'amigão', 'inconstitucionalissimamente']\n",
        "\n",
        "for item in teste:\n",
        "  if re.search(regex, item):\n",
        "    print(re.search(regex, item).group())\n"
      ]
    },
    {
      "cell_type": "markdown",
      "metadata": {
        "id": "_XSM6VrRIy24"
      },
      "source": [
        "### **Q3)** Detectar uma palavra com 8 a 10 letras que termine com a letra 'z'\n",
        "* teste=['chafariz','antes chafariz depois', 'gravidez', 'robustezjunto', 'ultragravidez e gravidez','antestalvezjunto', 'talvez']\n",
        "* saída= ['chafariz', 'chafariz', 'gravidez', 'gravidez']"
      ]
    },
    {
      "cell_type": "code",
      "execution_count": null,
      "metadata": {
        "colab": {
          "base_uri": "https://localhost:8080/"
        },
        "id": "v2CD08SyjSfM",
        "outputId": "5c85d27d-9b37-4fe5-c3bb-2ae096d3c44a"
      },
      "outputs": [
        {
          "name": "stdout",
          "output_type": "stream",
          "text": [
            "chafariz\n",
            "chafariz\n",
            "gravidez\n",
            "gravidez\n"
          ]
        }
      ],
      "source": [
        "# código\n",
        "regex = r'\\b[a-zA-Z]{7,9}z\\b'\n",
        "teste = ['chafariz','antes chafariz depois', 'gravidez', 'robustezjunto', 'ultragravidez e gravidez','antestalvezjunto', 'talvez']\n",
        "\n",
        "for item in teste:\n",
        "  if re.search(regex, item):\n",
        "    print(re.search(regex, item).group())"
      ]
    },
    {
      "cell_type": "markdown",
      "metadata": {
        "id": "qt9QVmVmI1OW"
      },
      "source": [
        "### **Q4)** Detectar um número inteiro com 2, 3 ou 4 dígitos, sendo que o primeiro dígito não pode ser zero.\n",
        "\n",
        "* teste=['12', '144', '09', '12345', '12a']\n",
        "* saída= 12, 144"
      ]
    },
    {
      "cell_type": "code",
      "execution_count": null,
      "metadata": {
        "colab": {
          "base_uri": "https://localhost:8080/"
        },
        "id": "XYLZSPXfjR2L",
        "outputId": "5391667c-989f-484d-fe98-b5e7baeb05f5"
      },
      "outputs": [
        {
          "name": "stdout",
          "output_type": "stream",
          "text": [
            "12\n",
            "144\n"
          ]
        }
      ],
      "source": [
        "# código\n",
        "regex = r'\\b[1-9][\\d]{1,3}\\b'\n",
        "teste = ['12', '144', '09', '12345', '12a']\n",
        "\n",
        "for item in teste:\n",
        "  if re.search(regex, item):\n",
        "    print(re.search(regex, item).group())"
      ]
    },
    {
      "cell_type": "markdown",
      "metadata": {
        "id": "NDtHyXjLI3D2"
      },
      "source": [
        "### **Q5)** Detectar trechos em que inicie com um algarismo(0-9) e termine com um letra.\n",
        "\n",
        "* teste=['1111111b','1bbbb','1b1b1b','teste 1a','bb1bbbbb11b','b1b1b1b1']\n",
        "* saída= '1111111b', '1bbbb', '1b1b1b', '1a']"
      ]
    },
    {
      "cell_type": "code",
      "execution_count": null,
      "metadata": {
        "colab": {
          "base_uri": "https://localhost:8080/"
        },
        "id": "tIIBHwNle-dD",
        "outputId": "b4ec4bad-88d2-43bc-842d-093b0ccb6600"
      },
      "outputs": [
        {
          "name": "stdout",
          "output_type": "stream",
          "text": [
            "1111111b\n",
            "1bbbb\n",
            "1b1b1b\n",
            "1a\n"
          ]
        }
      ],
      "source": [
        "# código\n",
        "regex = r'\\b[\\d]+[0-9A-z]+?$\\b'\n",
        "teste = ['1111111b','1bbbb','1b1b1b','teste 1a','bb1bbbbb11b','b1b1b1b1']\n",
        "\n",
        "for item in teste:\n",
        "  if re.search(regex, item):\n",
        "    print(re.search(regex, item).group())"
      ]
    },
    {
      "cell_type": "markdown",
      "metadata": {
        "id": "F-2gWmDLI40R"
      },
      "source": [
        "### **Q6)** Detectar duas palavras unidas pelas preposições 'de', 'do', 'da', 'dos' ou 'das'. *As palavras somente podem conter letras e elas são separadas por um ou mais espaços.*\n",
        "* teste=['Ouviram do Ipiranga','Às margens plácidas\n",
        "De um povo heroico',\n",
        "'Brilhou no céu da pátria nesse instante',\n",
        "'um raio vívido de amor e de esperança, à terra desce']\n",
        "* saída= 'Ouviram do Ipiranga', 'céu da pátria', 'vívido de amor', 'e de esperança'"
      ]
    },
    {
      "cell_type": "code",
      "execution_count": null,
      "metadata": {
        "colab": {
          "base_uri": "https://localhost:8080/"
        },
        "id": "FCgrg1u_h6fh",
        "outputId": "b5573e57-e6bb-40ba-b448-5c56c94c6d85"
      },
      "outputs": [
        {
          "name": "stdout",
          "output_type": "stream",
          "text": [
            "Ouviram do Ipiranga\n",
            "céu da pátria\n",
            "vívido de amor\n",
            "e de esperança\n"
          ]
        }
      ],
      "source": [
        "# código\n",
        "regex = r'\\w+\\s+d[aeo]?\\s+\\w+'\n",
        "teste = ['Ouviram do Ipiranga','Às margens plácidas De um povo heroico', 'Brilhou no céu da pátria nesse instante', 'um raio vívido de amor e de esperança, à terra desce']\n",
        "\n",
        "for item in teste:\n",
        "  lista = re.findall(regex, item)\n",
        "  for item_atual in lista:\n",
        "    print(item_atual)"
      ]
    },
    {
      "cell_type": "markdown",
      "metadata": {
        "id": "rT27VHl3I6nQ"
      },
      "source": [
        "### **Q7)** Detectar uma palavra seguida de um espaço seguido de um sequência de um ou mais dígitos.\n",
        "\n",
        "* teste=['teste 1234', 'parágrafo 12345','letra 1','a b 1 c','cc 11 a', 'dois espaços não pode  2']\n",
        "* saída=['teste 1234', 'parágrafo 12345', 'letra 1', 'cc 11']"
      ]
    },
    {
      "cell_type": "code",
      "execution_count": null,
      "metadata": {
        "colab": {
          "base_uri": "https://localhost:8080/"
        },
        "id": "jaAQdh1ugDr4",
        "outputId": "814201f5-3e1e-4963-9323-436613d2b75e"
      },
      "outputs": [
        {
          "name": "stdout",
          "output_type": "stream",
          "text": [
            "teste 1234\n",
            "parágrafo 12345\n",
            "letra 1\n",
            "cc 11\n"
          ]
        }
      ],
      "source": [
        "# código\n",
        "regex = r'^\\w\\w+\\s\\d+'\n",
        "teste = ['teste 1234', 'parágrafo 12345','letra 1','a b 1 c','cc 11 a', 'dois espaços não pode 2']\n",
        "\n",
        "for item in teste:\n",
        "  if re.search(regex, item):\n",
        "    print(re.search(regex, item).group())"
      ]
    },
    {
      "cell_type": "markdown",
      "metadata": {
        "id": "C_geio75I78P"
      },
      "source": [
        "### **Q8)** Detectar palavras de no mínimo 3 letras e com TODAS as letras maiúsculas.\n",
        "\n",
        "* teste=['Hino Nacional Brasileiro', 'BRASIL', 'Durante o “Dia do Fico”, D. Pedro declarou que permaneceria no Brasil.', \"Bandeira DO Brasil\",\n",
        "'Durante o “Dia do Fico”, DOM PEDRO declarou que permaneceria no Brasil.'\n",
        "* saída='BRASIL, DOM, PEDRO"
      ]
    },
    {
      "cell_type": "code",
      "execution_count": null,
      "metadata": {
        "colab": {
          "base_uri": "https://localhost:8080/"
        },
        "id": "mzP4yxZLjM1s",
        "outputId": "f058495e-3147-48c8-80ea-f0b683330c42"
      },
      "outputs": [
        {
          "name": "stdout",
          "output_type": "stream",
          "text": [
            "BRASIL\n",
            "DOM\n",
            "PEDRO\n"
          ]
        }
      ],
      "source": [
        "# código\n",
        "regex = r'[A-Z]{3,}'\n",
        "teste = ['Hino Nacional Brasileiro', 'BRASIL', 'Durante o “Dia do Fico”, D. Pedro declarou que permaneceria no Brasil.', 'Bandeira DO Brasil',\n",
        "         'Durante o “Dia do Fico”, DOM PEDRO declarou que permaneceria no Brasil.']\n",
        "\n",
        "for item in teste:\n",
        "  lista = re.findall(regex, item)\n",
        "  for item_atual in lista:\n",
        "    print(item_atual)"
      ]
    },
    {
      "cell_type": "markdown",
      "metadata": {
        "id": "MW6lugCjJKo0"
      },
      "source": [
        "### **Q9)** Detectar duas palavras consecutivas, de no mínimo 2 letras cada, com TODAS as letras maiúsculas.\n",
        "* teste=['Durante o “Dia do Fico”, DOM PEDRO declarou que permaneceria no Brasil.', 'O Magazine Luiza(MGLU) é uma empresa de varejo', 'LUIZA TRAJANO é uma empresária brasileira.', 'RELATÓRIO DE TENDÊNCIAs']\n",
        "* saída= 'DOM PEDRO', 'LUIZA TRAJANO, 'RELATÓRIO DE'"
      ]
    },
    {
      "cell_type": "code",
      "execution_count": null,
      "metadata": {
        "colab": {
          "base_uri": "https://localhost:8080/"
        },
        "id": "kZ2SKwKWl4ac",
        "outputId": "b4b5ba02-cf93-4367-dd30-672bff5c137d"
      },
      "outputs": [
        {
          "name": "stdout",
          "output_type": "stream",
          "text": [
            "DOM PEDRO\n",
            "LUIZA TRAJANO\n",
            "RELATÓRIO DE\n"
          ]
        }
      ],
      "source": [
        "# código\n",
        "#caracteresLatinos = 'ÁÀÂÃÉÈÊÍÏÓÔÕÖÚÇÑáàâãéèêíïóôõöúçñ'\n",
        "caracteresLatinos = 'ÁÀÂÃÉÈÊÍÏÓÔÕÖÚÇÑ'\n",
        "\n",
        "regex = r'[A-Z'+ caracteresLatinos + r']{2,}\\s[A-Z' + caracteresLatinos + r']{2,}'\n",
        "\n",
        "teste = ['Durante o “Dia do Fico”, DOM PEDRO declarou que permaneceria no Brasil.',\n",
        "         'O Magazine Luiza(MGLU) é uma empresa de varejo', 'LUIZA TRAJANO é uma empresária brasileira.', 'RELATÓRIO DE TENDÊNCIAs']\n",
        "\n",
        "for item in teste:\n",
        "  lista = re.findall(regex, item)\n",
        "  for item_atual in lista:\n",
        "    print(item_atual)"
      ]
    },
    {
      "cell_type": "markdown",
      "metadata": {
        "id": "bhMx3YbWJLcI"
      },
      "source": [
        "### **Q10)** Detectar duas ou mais palavras consecutivas com todas as letras maiúsculas. Cada palavra pode possuir qualquer quantidade de letras..\n",
        "\n",
        "* teste=['Durante o “Dia do Fico”, DOM PEDRO declarou que permaneceria no Brasil.', 'O Magazine Luiza(MGLU) é uma empresa de varejo', 'LUIZA HELENA TRAJANO é uma empresária brasileira.', 'RELATÓRIO de TENDÊNCIAS', 'O RELATÓRIO DE DESEMPENHO foi publicado']\n",
        "* saída= 'DOM PEDRO', 'LUIZA HELENA TRAJANO', 'RELATÓRIO DE DESEMPENHO'"
      ]
    },
    {
      "cell_type": "code",
      "execution_count": null,
      "metadata": {
        "colab": {
          "base_uri": "https://localhost:8080/"
        },
        "id": "xlDrh3kQonVN",
        "outputId": "88bc23f0-60e5-4d69-b051-781e11afcb8d"
      },
      "outputs": [
        {
          "name": "stdout",
          "output_type": "stream",
          "text": [
            "DOM PEDRO \n",
            "LUIZA HELENA TRAJANO \n",
            "O RELATÓRIO DE DESEMPENHO \n"
          ]
        }
      ],
      "source": [
        "# código\n",
        "caracteresLatinos = 'ÁÀÂÃÉÈÊÍÏÓÔÕÖÚÇÑ'\n",
        "regex = r'\\b(?:[A-Z' + caracteresLatinos + r']+\\s)+[A-Z' + caracteresLatinos + r']+\\s?\\b'\n",
        "\n",
        "teste = ['Durante o “Dia do Fico”, DOM PEDRO declarou que permaneceria no Brasil.',\n",
        "         'O Magazine Luiza(MGLU) é uma empresa de varejo', 'LUIZA HELENA TRAJANO é uma empresária brasileira.',\n",
        "         'RELATÓRIO de TENDÊNCIAS', 'O RELATÓRIO DE DESEMPENHO foi publicado']\n",
        "\n",
        "for item in teste:\n",
        "  lista = re.findall(regex, item)\n",
        "  for item_atual in lista:\n",
        "    print(item_atual)"
      ]
    },
    {
      "cell_type": "markdown",
      "metadata": {
        "id": "FQgW5zoCJMOk"
      },
      "source": [
        "### **Q11)** Detectar um endereço [IP](https://en.wikipedia.org/wiki/IP_address). ex.: 127.0.0.1, 192.168.0.254. Um IP é formado por exatamente 4 números separados por pontos. Cada número possui no máximo 3 dígitos.\n",
        "* teste=['127.0.0.1','192.168.0.254','10.11.10.11','127.127.127.127','9999.0.0.1','127404041','a127.0.0.1', '127.a.a.1']\n",
        "* saída= '127.0.0.1','192.168.0.254','10.11.10.11','127.127.127.127'"
      ]
    },
    {
      "cell_type": "code",
      "execution_count": null,
      "metadata": {
        "colab": {
          "base_uri": "https://localhost:8080/"
        },
        "id": "oJgJIWKJn0wm",
        "outputId": "23008190-e0ac-43c6-f9dc-f7d3fe00ee6a"
      },
      "outputs": [
        {
          "name": "stdout",
          "output_type": "stream",
          "text": [
            "127.0.0.1\n",
            "192.168.0.254\n",
            "10.11.10.11\n",
            "127.127.127.127\n"
          ]
        }
      ],
      "source": [
        "# código\n",
        "regex = r'\\b[0-9]{1,3}\\.[0-9]{1,3}\\.[0-9]{1,3}\\.[0-9]{1,3}\\b'\n",
        "\n",
        "teste = ['127.0.0.1','192.168.0.254','10.11.10.11','127.127.127.127','9999.0.0.1','127404041','a127.0.0.1', '127.a.a.1']\n",
        "\n",
        "for item in teste:\n",
        "  lista = re.findall(regex, item)\n",
        "  for item_atual in lista:\n",
        "    print(item_atual)"
      ]
    },
    {
      "cell_type": "markdown",
      "metadata": {
        "id": "7LHcm1LIJMro"
      },
      "source": [
        "### **Q12)** Detectar uma url de um site que inicie com o prefixo 'http://' e finalize ou com '.com' ou '.com.br' ou '.br'\n",
        "\n",
        "* teste=['http://www.obrigado.com', 'hp://www.obrigado.com', 'www.thankyou.com', 'http://www.brasil.br', 'http://www.tearto.art', 'http://www.olance.com.ar' ]\n",
        "* saída= 'http://www.obrigado.com'\n"
      ]
    },
    {
      "cell_type": "code",
      "execution_count": null,
      "metadata": {
        "colab": {
          "base_uri": "https://localhost:8080/"
        },
        "id": "8GfuacYZHWI-",
        "outputId": "9b70a5a2-451e-44a3-e3bc-6935f17f4ba9"
      },
      "outputs": [
        {
          "name": "stdout",
          "output_type": "stream",
          "text": [
            "http://www.obrigado.com.br\n",
            "http://www.brasil.br\n"
          ]
        }
      ],
      "source": [
        "# código\n",
        "#regex = r'^(http:\\/\\/)(\\.[a-z]+\\.)(com|com\\.br|br)$'\n",
        "regex = r'^(http:\\/\\/)([w]{3}\\.[a-z]+)(\\.com|\\.com\\.br|\\.br)$'\n",
        "\n",
        "teste = ['http://www.obrigado.com.br', 'hp://www.obrigado.com', 'www.thankyou.com', 'http://www.brasil.br', 'http://www.tearto.art', 'http://www.olance.com.ar']\n",
        "\n",
        "for item in teste:\n",
        "  lista = re.findall(regex, item)\n",
        "  for item_atual in lista:\n",
        "    print(''.join(item_atual))"
      ]
    },
    {
      "cell_type": "markdown",
      "metadata": {
        "id": "SkEYcCf4JNmw"
      },
      "source": [
        "### **Q13)** Detectar números de CPF com separador de milhares e hífen.\n",
        "\n",
        "* teste=['000.000.000-00','111.111.111-11','0111.111.111-11','11101110111-11','111.111.111111','1110110111111', '..1.11011011-11']\n",
        "* saída= '000.000.000-00','111.111.111-11'"
      ]
    },
    {
      "cell_type": "code",
      "execution_count": null,
      "metadata": {
        "colab": {
          "base_uri": "https://localhost:8080/"
        },
        "id": "oaVIlLdtolZy",
        "outputId": "937eabff-fb9a-4fd3-d074-0eb3df29ffe8"
      },
      "outputs": [
        {
          "name": "stdout",
          "output_type": "stream",
          "text": [
            "000.000.000-00\n",
            "111.111.111-11\n"
          ]
        }
      ],
      "source": [
        "# código\n",
        "regex = r'\\b[0-9]{3}\\.[0-9]{3}\\.[0-9]{3}-[0-9]{2}\\b'\n",
        "\n",
        "teste = ['000.000.000-00','111.111.111-11','0111.111.111-11','11101110111-11','111.111.111111','1110110111111', '..1.11011011-11']\n",
        "\n",
        "for item in teste:\n",
        "  lista = re.findall(regex, item)\n",
        "  for item_atual in lista:\n",
        "    print(item_atual)"
      ]
    },
    {
      "cell_type": "markdown",
      "metadata": {
        "id": "By__nCvLJOD6"
      },
      "source": [
        "### **Q14)** Detectar números de CPF com separador de milhares opcional e hífen opcional.\n",
        "\n",
        "* teste=['000.000.000-00','111.111.111-11','0111.111.111-11','11101110111-11','111.111.111111','1110110111111', '..1.11011011-11', '123456789-12','123.456.78912', '12345678912']\n",
        "* saída= '000.000.000-00','111.111.111-11', '123456789-12','123.456.78912'"
      ]
    },
    {
      "cell_type": "code",
      "execution_count": null,
      "metadata": {
        "colab": {
          "base_uri": "https://localhost:8080/"
        },
        "id": "ZceC7KHxpWlQ",
        "outputId": "27e671d2-fe07-4f07-e2c1-2ec3260b07a8"
      },
      "outputs": [
        {
          "name": "stdout",
          "output_type": "stream",
          "text": [
            "000.000.000-00\n",
            "111.111.111-11\n",
            "123456789-12\n",
            "123.456.78912\n"
          ]
        }
      ],
      "source": [
        "# código\n",
        "regex = r'(?:\\b[0-9]{3}\\.[0-9]{3}\\.[0-9]{3}-?[0-9]{2}\\b|\\b[0-9]{3}\\.?[0-9]{3}\\.?[0-9]{3}-[0-9]{2}\\b)'\n",
        "\n",
        "teste = ['000.000.000-00','111.111.111-11','0111.111.111-11','11101110111-11','111.111.111111','1110110111111', '..1.11011011-11', '123456789-12','123.456.78912', '12345678912']\n",
        "\n",
        "for item in teste:\n",
        "  lista = re.findall(regex, item)\n",
        "  for item_atual in lista:\n",
        "    print(item_atual)"
      ]
    },
    {
      "cell_type": "markdown",
      "metadata": {
        "id": "_mURUbwdJO6g"
      },
      "source": [
        "### **Q15)** Detectar CNPJ com separador de milhares, barra e hífen.\n",
        "* teste=['00.000.000/0001-00','xx.000.000/0001-xx','0011001000/0001-00','00.000.00010001-00','00.000.000/0001100','00000.000/0001-00','00000000/0001-00','000000000001-00']\n",
        "* saída= '00.000.000/0001-00'"
      ]
    },
    {
      "cell_type": "code",
      "execution_count": null,
      "metadata": {
        "colab": {
          "base_uri": "https://localhost:8080/"
        },
        "id": "dyGsJlLap4T4",
        "outputId": "64babde7-0e9d-4050-d0c2-2ae52abee017"
      },
      "outputs": [
        {
          "name": "stdout",
          "output_type": "stream",
          "text": [
            "00.000.000/0001-00\n"
          ]
        }
      ],
      "source": [
        "# código\n",
        "regex = r'\\b[0-9]{2}\\.[0-9]{3}\\.[0-9]{3}\\/[0-9]{4}-[0-9]{2}\\b'\n",
        "\n",
        "teste = ['00.000.000/0001-00','xx.000.000/0001-xx','0011001000/0001-00','00.000.00010001-00','00.000.000/0001100','00000.000/0001-00','00000000/0001-00','000000000001-00']\n",
        "\n",
        "for item in teste:\n",
        "  lista = re.findall(regex, item)\n",
        "  for item_atual in lista:\n",
        "    print(item_atual)"
      ]
    },
    {
      "cell_type": "markdown",
      "metadata": {
        "id": "IDQiJmUnJPqz"
      },
      "source": [
        "### **Q16)** Detectar a sequencia de 7 caracteres que possua o formato três letras maiúsculas, espaço, e 4 algarismos, sendo que a primeira letra só pode ser J, K ou L.\n",
        "\n",
        "* teste=['JPA 2345', 'JJJ3767', 'JJJ 1234', 'ABJ 0000', 'jkl 1234', 'LAp 1234']\n",
        "* saída= 'JPA 2345', 'JJJ 1234'"
      ]
    },
    {
      "cell_type": "code",
      "execution_count": null,
      "metadata": {
        "colab": {
          "base_uri": "https://localhost:8080/"
        },
        "id": "bWu9vlz5rZqY",
        "outputId": "22ff2c12-4bed-4bfd-aa20-c8756940a753"
      },
      "outputs": [
        {
          "name": "stdout",
          "output_type": "stream",
          "text": [
            "JPA 2345\n",
            "JJJ 1234\n"
          ]
        }
      ],
      "source": [
        "# código\n",
        "regex = r'\\b[JKL][A-Z]{2}\\s[0-9]{4}\\b'\n",
        "\n",
        "teste = ['JPA 2345', 'JJJ3767', 'JJJ 1234', 'ABJ 0000', 'jkl 1234', 'LAp 1234']\n",
        "\n",
        "for item in teste:\n",
        "  lista = re.findall(regex, item)\n",
        "  for item_atual in lista:\n",
        "    print(item_atual)"
      ]
    },
    {
      "cell_type": "markdown",
      "metadata": {
        "id": "jyt0bg8GJRYi"
      },
      "source": [
        "### **Q17)** Detectar números de telefone no formato (xx)xxxx-xxxx.\n",
        "\n",
        "* teste=['(61)3316-0000','3316-0000','x61x3316x0000','(61)3316x0000','((61)3316-00006','77(61)3316x000077','(77)(61)3316-00007']\n",
        "* saída= '(61)3316-0000'"
      ]
    },
    {
      "cell_type": "code",
      "execution_count": null,
      "metadata": {
        "colab": {
          "base_uri": "https://localhost:8080/"
        },
        "id": "5iVypYb1rY10",
        "outputId": "d52286e3-88b7-4ded-c489-f2f4b325f865"
      },
      "outputs": [
        {
          "name": "stdout",
          "output_type": "stream",
          "text": [
            "(61)3316-0000\n"
          ]
        }
      ],
      "source": [
        "# código\n",
        "#regex = r'([^\\(\\)\\d])?(^[(])([\\d]{2}[\\)][\\d]{4}\\-[\\d]{4}\\b)'\n",
        "regex = r'(^[(])([\\d]{2}[\\)][\\d]{4}\\-[\\d]{4}\\b)'\n",
        "\n",
        "teste = [\"(61)3316-0000\",'3316-0000','x61x3316x0000','(61)3316x0000','((61)3316-00006','77(61)3316x000077','(77)(61)3316-00007']\n",
        "\n",
        "for item in teste:\n",
        "  lista = re.findall(regex, item)\n",
        "  for item_atual in lista:\n",
        "    print(''.join(item_atual))"
      ]
    },
    {
      "cell_type": "markdown",
      "metadata": {
        "id": "LvfKH3J3JSXi"
      },
      "source": [
        "### **Q18)** Detectar um número de telefone no formato (xx)xxxx-xxxx ou xxxx-xxxx (sem DDD).\n",
        "\n",
        "* teste=['(61)3316-0000','3316-0000','x61x3316x0000','(61)3316x0000','((61)3316-00006','77(61)3316x000077','(77)(61)3316-00007']\n",
        "* saída= '(61)3316-0000','3316-0000'"
      ]
    },
    {
      "cell_type": "code",
      "execution_count": null,
      "metadata": {
        "colab": {
          "base_uri": "https://localhost:8080/"
        },
        "id": "4e9dHwjSrrg2",
        "outputId": "7f38f929-1996-48fa-e747-e0bc4b510ca1"
      },
      "outputs": [
        {
          "name": "stdout",
          "output_type": "stream",
          "text": [
            "(61)3316-0000\n",
            "3316-0000\n"
          ]
        }
      ],
      "source": [
        "# código\n",
        "#regex = r'([^\\(\\)\\d])?(^[(])([\\d]{2}[\\)][\\d]{4}\\-[\\d]{4}\\b)'\n",
        "regex = r'(^[(][\\d]{2}[\\)])?([\\d]{4}\\-[\\d]{4}\\b)'\n",
        "\n",
        "teste = ['(61)3316-0000','3316-0000','x61x3316x0000','(61)3316x0000','((61)3316-00006','77(61)3316x000077','(77)(61)3316-00007']\n",
        "\n",
        "for item in teste:\n",
        "  lista = re.findall(regex, item)\n",
        "  for item_atual in lista:\n",
        "    print(''.join(item_atual))"
      ]
    },
    {
      "cell_type": "markdown",
      "metadata": {
        "id": "bXTUy9HqJTLJ"
      },
      "source": [
        "### **Q19)**  Detectar números (0-9) com a quantidade entre 1 e 3 algarismos em um trecho de texto.\n",
        "\n",
        "* teste1='Exercicios 1, 12, 13 e 345 são importantes, mas não o 1002.'\n",
        "* saída= '1', '12', '13', '345'"
      ]
    },
    {
      "cell_type": "code",
      "execution_count": null,
      "metadata": {
        "colab": {
          "base_uri": "https://localhost:8080/"
        },
        "id": "EghLh1O1rqk3",
        "outputId": "1281a1ab-a25a-4f04-fbc6-121b43560b95"
      },
      "outputs": [
        {
          "name": "stdout",
          "output_type": "stream",
          "text": [
            "1\n",
            "12\n",
            "13\n",
            "345\n"
          ]
        }
      ],
      "source": [
        "# código\n",
        "regex = r'\\b[0-9]{1,3}\\b'\n",
        "\n",
        "item = 'Exercicios 1, 12, 13 e 345 são importantes, mas não o 1002.'\n",
        "\n",
        "lista = re.findall(regex, item)\n",
        "for item_atual in lista:\n",
        "  print(item_atual)"
      ]
    },
    {
      "cell_type": "markdown",
      "metadata": {
        "id": "__Np4QjiJp_c"
      },
      "source": [
        "### **Q20)** Criar uma função que receba uma data no formato 'yyyy-mm-dd' e retorne no formato 'dd-mm-yyyy'. Caso a entrada não esteja no formato, lançar exceção.\n",
        "\n",
        "* teste='2022-08-18', '2022-Ago-18'\n",
        "* saída= '18-08-2022', 'Formato inválido'"
      ]
    },
    {
      "cell_type": "code",
      "execution_count": null,
      "metadata": {
        "id": "MQXHKWD1iqQP"
      },
      "outputs": [],
      "source": [
        "def transformarData(data):\n",
        "  regex = r'\\w{4}-\\w{2}-\\w{2}'\n",
        "  dataTransformada = ''\n",
        "\n",
        "  if re.match(regex, data):\n",
        "    lista = re.findall('\\w+', data)\n",
        "    dataTransformada = f'{lista[2]}-{lista[1]}-{lista[0]}'\n",
        "  else:\n",
        "    raise Exception('Formato inválido')\n",
        "\n",
        "  return dataTransformada"
      ]
    },
    {
      "cell_type": "code",
      "execution_count": null,
      "metadata": {
        "colab": {
          "base_uri": "https://localhost:8080/"
        },
        "id": "m8E9s-Qj5YlG",
        "outputId": "1e5cd6f1-177e-4e92-8920-c3b37407cf1f"
      },
      "outputs": [
        {
          "name": "stdout",
          "output_type": "stream",
          "text": [
            "18-08-2022\n",
            "Formato inválido\n"
          ]
        }
      ],
      "source": [
        "teste = ['2022-08-18', '2022-Ago-18']\n",
        "\n",
        "for item in teste:\n",
        "  try:\n",
        "    print(transformarData(item))\n",
        "  except Exception as E:\n",
        "    print(E)"
      ]
    }
  ],
  "metadata": {
    "colab": {
      "provenance": []
    },
    "kernelspec": {
      "display_name": "Python 3",
      "name": "python3"
    },
    "language_info": {
      "name": "python"
    }
  },
  "nbformat": 4,
  "nbformat_minor": 0
}
